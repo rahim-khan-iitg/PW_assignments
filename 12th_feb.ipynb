{
 "cells": [
  {
   "attachments": {},
   "cell_type": "markdown",
   "metadata": {},
   "source": [
    "Q1 what is an exception in python? what is the difference between exception and syntax errors?\n"
   ]
  },
  {
   "attachments": {},
   "cell_type": "markdown",
   "metadata": {},
   "source": [
    "Ans exceptions are the events which disrupts the normal flow of the program during execution.\n",
    "on the other hand syntax are the statements not recognised by the compiler during compilation"
   ]
  },
  {
   "attachments": {},
   "cell_type": "markdown",
   "metadata": {},
   "source": [
    "Q2 what happens when an exception is not handled? Explain with an example.\n"
   ]
  },
  {
   "attachments": {},
   "cell_type": "markdown",
   "metadata": {},
   "source": [
    "Ans if we dont handle the exception our program will break during execution \n"
   ]
  },
  {
   "cell_type": "code",
   "execution_count": 3,
   "metadata": {},
   "outputs": [
    {
     "ename": "ZeroDivisionError",
     "evalue": "division by zero",
     "output_type": "error",
     "traceback": [
      "\u001b[1;31m---------------------------------------------------------------------------\u001b[0m",
      "\u001b[1;31mZeroDivisionError\u001b[0m                         Traceback (most recent call last)",
      "Cell \u001b[1;32mIn[3], line 5\u001b[0m\n\u001b[0;32m      3\u001b[0m a\u001b[39m=\u001b[39m\u001b[39m1\u001b[39m\n\u001b[0;32m      4\u001b[0m b\u001b[39m=\u001b[39m\u001b[39m0\u001b[39m\n\u001b[1;32m----> 5\u001b[0m \u001b[39mprint\u001b[39m(a\u001b[39m/\u001b[39;49mb)\n",
      "\u001b[1;31mZeroDivisionError\u001b[0m: division by zero"
     ]
    }
   ],
   "source": [
    "#example \n",
    "# we are dividing by zero here program will throw ZeroDivisionError during execution\n",
    "a=1\n",
    "b=0\n",
    "print(a/b)\n"
   ]
  },
  {
   "cell_type": "code",
   "execution_count": null,
   "metadata": {},
   "outputs": [
    {
     "name": "stdout",
     "output_type": "stream",
     "text": [
      "division by zero\n"
     ]
    }
   ],
   "source": [
    "# same program with exception handling\n",
    "try:\n",
    "    a=1\n",
    "    b=0\n",
    "    print(a/b)\n",
    "except ZeroDivisionError as e:\n",
    "    print(e)"
   ]
  },
  {
   "attachments": {},
   "cell_type": "markdown",
   "metadata": {},
   "source": [
    "Q3 which python statements are used to catch and handle the exceptions ? explain with an example"
   ]
  },
  {
   "cell_type": "code",
   "execution_count": 4,
   "metadata": {},
   "outputs": [
    {
     "data": {
      "text/plain": [
       "' are used to catch and handle the exceptions'"
      ]
     },
     "execution_count": 4,
     "metadata": {},
     "output_type": "execute_result"
    }
   ],
   "source": [
    "# try:\n",
    "\n",
    "# except:\n",
    "\n",
    "# else:\n",
    "\n",
    "# finally:\n",
    "\"\"\" are used to catch and handle the exceptions\"\"\""
   ]
  },
  {
   "cell_type": "code",
   "execution_count": 7,
   "metadata": {},
   "outputs": [
    {
     "name": "stdout",
     "output_type": "stream",
     "text": [
      "invalid literal for int() with base 10: 'rahim'\n",
      "invalid literal for int() with base 10: 'khan'\n",
      "[1, 2, 3, 4, 5, 6, 7, 8, 9, 10]\n"
     ]
    }
   ],
   "source": [
    "#example-- consider we are open the file and appending the content into the list after converting it into integer\n",
    "#step 1 open the file here the file may or may not found so there is the possibility of FileNotFoundError\n",
    "try:\n",
    "    f=open(\"test4.txt\",'r')\n",
    "except FileNotFoundError as e:\n",
    "    print(e)\n",
    "else: # now if file found then we will read the content\n",
    "    data=f.read().split() # now we got the content of the file as a list\n",
    "    int_list=list()\n",
    "    # now we will add the content from the list after converting it into int()\n",
    "    for i in data:\n",
    "        try:\n",
    "            int_list.append(int(i)) # here we can get value error \n",
    "        except ValueError as e:\n",
    "            print(e)\n",
    "        else:\n",
    "            pass\n",
    "finally:\n",
    "    f.close()\n",
    "    print(int_list)\n",
    "\n",
    "\n",
    "\n"
   ]
  },
  {
   "attachments": {},
   "cell_type": "markdown",
   "metadata": {},
   "source": [
    "Q4 Explain with an example\n",
    "(1) try and else\n",
    "(2) finally\n",
    "(3) raise"
   ]
  },
  {
   "attachments": {},
   "cell_type": "markdown",
   "metadata": {},
   "source": [
    "Ans (1) and (2) refer to the example in Q4\n"
   ]
  },
  {
   "cell_type": "code",
   "execution_count": 9,
   "metadata": {},
   "outputs": [
    {
     "ename": "TypeError",
     "evalue": "x is not integer",
     "output_type": "error",
     "traceback": [
      "\u001b[1;31m---------------------------------------------------------------------------\u001b[0m",
      "\u001b[1;31mTypeError\u001b[0m                                 Traceback (most recent call last)",
      "Cell \u001b[1;32mIn[9], line 4\u001b[0m\n\u001b[0;32m      2\u001b[0m x\u001b[39m=\u001b[39m\u001b[39m\"\u001b[39m\u001b[39mhello\u001b[39m\u001b[39m\"\u001b[39m\n\u001b[0;32m      3\u001b[0m \u001b[39mif\u001b[39;00m \u001b[39mtype\u001b[39m(x)\u001b[39m!=\u001b[39m \u001b[39mint\u001b[39m:\n\u001b[1;32m----> 4\u001b[0m     \u001b[39mraise\u001b[39;00m \u001b[39mTypeError\u001b[39;00m(\u001b[39m\"\u001b[39m\u001b[39mx is not integer\u001b[39m\u001b[39m\"\u001b[39m)\n\u001b[0;32m      5\u001b[0m \u001b[39melse\u001b[39;00m:\n\u001b[0;32m      6\u001b[0m     \u001b[39mprint\u001b[39m(\u001b[39mint\u001b[39m(x))\n",
      "\u001b[1;31mTypeError\u001b[0m: x is not integer"
     ]
    }
   ],
   "source": [
    "# raise\n",
    "x=\"hello\"\n",
    "if type(x)!= int:\n",
    "    raise TypeError(\"x is not integer\")\n",
    "else:\n",
    "    print(int(x))"
   ]
  },
  {
   "attachments": {},
   "cell_type": "markdown",
   "metadata": {},
   "source": [
    "Q5 what are the custom exception in python ? why do we need custome exceptions? explain with an example.\n"
   ]
  },
  {
   "attachments": {},
   "cell_type": "markdown",
   "metadata": {},
   "source": [
    "the exception which are not exceptions according to the system but according to our logic they are not desired such as age in negative integer.\n",
    "To handle such scenarios we need custom exception handling "
   ]
  },
  {
   "attachments": {},
   "cell_type": "markdown",
   "metadata": {},
   "source": [
    "ex- consider we need an integer input from user between 1 to 100 , now if user enters the number which is not in the range system will not throw any error because it is the valid input but we dont want that so it is the exception from our perspective here we need to handle it seperately."
   ]
  },
  {
   "attachments": {},
   "cell_type": "markdown",
   "metadata": {},
   "source": [
    "Q6 create a custome exception class . use this calss to handle an exception"
   ]
  },
  {
   "cell_type": "code",
   "execution_count": 15,
   "metadata": {},
   "outputs": [
    {
     "name": "stdout",
     "output_type": "stream",
     "text": [
      "not in the range\n"
     ]
    }
   ],
   "source": [
    "class custome_exception(Exception):\n",
    "    def __init__(self,msg:str) -> None:\n",
    "        self.msg=msg\n",
    "\n",
    "def raise_custome_exception(n:int):\n",
    "    if n>100 or n<1:\n",
    "        raise custome_exception(\"not in the range\")\n",
    "    else:\n",
    "        pass\n",
    "\n",
    "try:\n",
    "    n=int(input(\"write the value of n \"))\n",
    "    raise_custome_exception(n)\n",
    "except custome_exception as e:\n",
    "    print(e)"
   ]
  },
  {
   "cell_type": "code",
   "execution_count": null,
   "metadata": {},
   "outputs": [],
   "source": []
  }
 ],
 "metadata": {
  "kernelspec": {
   "display_name": "Python 3",
   "language": "python",
   "name": "python3"
  },
  "language_info": {
   "codemirror_mode": {
    "name": "ipython",
    "version": 3
   },
   "file_extension": ".py",
   "mimetype": "text/x-python",
   "name": "python",
   "nbconvert_exporter": "python",
   "pygments_lexer": "ipython3",
   "version": "3.11.0"
  },
  "orig_nbformat": 4
 },
 "nbformat": 4,
 "nbformat_minor": 2
}
