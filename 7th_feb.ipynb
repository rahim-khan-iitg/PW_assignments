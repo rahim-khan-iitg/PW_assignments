{
 "cells": [
  {
   "attachments": {},
   "cell_type": "markdown",
   "metadata": {},
   "source": [
    "Q1"
   ]
  },
  {
   "cell_type": "code",
   "execution_count": 11,
   "metadata": {},
   "outputs": [
    {
     "name": "stdout",
     "output_type": "stream",
     "text": [
      "Valid Password\n"
     ]
    }
   ],
   "source": [
    "def is_valid(sp_chars:list,lower:list,upper:list,nums:list,password:str)->str:\n",
    "    extract={1:[],2:[],3:[],4:[]} #1 for special chars,2 for lower,3 for upper, 4 for numbers\n",
    "    for ch in password:\n",
    "        if ch in sp_chars:\n",
    "            extract[1].append(ch)\n",
    "        elif ch in lower:\n",
    "            extract[2].append(ch)\n",
    "        elif ch in upper:\n",
    "            extract[3].append(ch)\n",
    "        elif int(ch) in nums:\n",
    "            extract[4].append(ch)\n",
    "    # print(extract)\n",
    "    if (len(password)==10 and len(extract[1])==3 and len(extract[4])>=1 and len(extract[2])>=2 and len(extract[3])>=2):\n",
    "        return \"Valid Password\"\n",
    "    return \"Invalid Password\"\n",
    "\n",
    "sp_chars=[\"~\",\"!\",\"@\",\"#\",\"$\",\"%\",\"^\",\"&\",\"*\",\"(\",\")\",\"_\",\"-\",\"+\",\"=\",\"{\",\"[\",\"}\",\"]\",\"|\",\"\\\\\",\":\",\"\\\"\",\";\",\"\\'\",\"<\",\",\",\">\",\".\",\"?\",\"/\",\"`\"]\n",
    "lower=[\"a\",\"b\",\"c\",\"d\",\"e\",\"f\",\"g\",\"h\",\"i\",\"j\",\"k\",\"l\",\"m\",\"n\",\"o\",\"p\",\"q\",\"r\",\"s\",\"t\",\"u\",\"v\",\"w\",\"x\",\"y\",\"z\"]\n",
    "upper=[i.upper() for i in lower]\n",
    "nums=[i for i in range(10)]\n",
    "password=\"Rahim-_@K2\"\n",
    "print(is_valid(sp_chars,lower,upper,nums,password))"
   ]
  },
  {
   "attachments": {},
   "cell_type": "markdown",
   "metadata": {},
   "source": [
    "Q2"
   ]
  },
  {
   "cell_type": "code",
   "execution_count": 12,
   "metadata": {},
   "outputs": [],
   "source": [
    "#Check if the string starts with a particular letter\n",
    "x=lambda string:string[0]=='a'  # a or any specific letter "
   ]
  },
  {
   "cell_type": "code",
   "execution_count": 13,
   "metadata": {},
   "outputs": [],
   "source": [
    "#Check if the string is numeric\n",
    "y=lambda string:string.isnumeric()\n"
   ]
  },
  {
   "cell_type": "code",
   "execution_count": 14,
   "metadata": {},
   "outputs": [
    {
     "name": "stdout",
     "output_type": "stream",
     "text": [
      "[('orange', 80), ('mango', 99), ('grapes', 1000)]\n"
     ]
    }
   ],
   "source": [
    "# Sort a list of tuples having fruit names and their quantity. [(\"mango\",99),(\"orange\",80), (\"grapes\", 1000)]\n",
    "l=[(\"mango\",99),(\"orange\",80), (\"grapes\", 1000)]\n",
    "print(sorted(l,key=lambda x:x[1]))"
   ]
  },
  {
   "cell_type": "code",
   "execution_count": 15,
   "metadata": {},
   "outputs": [
    {
     "name": "stdout",
     "output_type": "stream",
     "text": [
      "[1, 4, 9, 16, 25, 36, 49, 64, 81, 100]\n"
     ]
    }
   ],
   "source": [
    "# Find the squares of numbers from 1 to 10\n",
    "list2=[i for i in range(1,11)]\n",
    "print(list(map(lambda x:x**2,list2)))"
   ]
  },
  {
   "cell_type": "code",
   "execution_count": 16,
   "metadata": {},
   "outputs": [
    {
     "name": "stdout",
     "output_type": "stream",
     "text": [
      "[1.0, 1.2570133745218284, 1.4369776521848516, 1.5800826237267545, 1.7008268430839244, 1.8063001276853345, 1.900563363234187, 1.9861849908740719, 2.0649047728786885, 2.137962089502232]\n"
     ]
    }
   ],
   "source": [
    "# Find the cube root of numbers from 1 to 10\n",
    "cube_root=[pow(i,0.33) for i in list2]\n",
    "print(cube_root)"
   ]
  },
  {
   "cell_type": "code",
   "execution_count": 17,
   "metadata": {},
   "outputs": [],
   "source": [
    "# Check if a given number is even\n",
    "# where x is the given number\n",
    "even=lambda x:x%2==0"
   ]
  },
  {
   "cell_type": "code",
   "execution_count": 18,
   "metadata": {},
   "outputs": [
    {
     "name": "stdout",
     "output_type": "stream",
     "text": [
      "[1, 3, 5, 7, 9]\n"
     ]
    }
   ],
   "source": [
    "# Filter odd numbers from the given list.\n",
    "odd=list(filter(lambda x:x%2==1,list2))\n",
    "print(odd)"
   ]
  },
  {
   "cell_type": "code",
   "execution_count": 20,
   "metadata": {},
   "outputs": [
    {
     "name": "stdout",
     "output_type": "stream",
     "text": [
      "[0, 1, 2, 3, 4, 5, 6]\n",
      "[-5, -4, -3, -2, -1]\n"
     ]
    }
   ],
   "source": [
    "# Sort a list of integers into positive and negative integers lists\n",
    "list3=[1,2,3,4,5,6,-1,-2,-3,-4,-5,0]\n",
    "positive=list(filter(lambda x:x>=0,list3))\n",
    "negative=list(filter(lambda x:x<0,list3))\n",
    "negative.sort()\n",
    "positive.sort()\n",
    "print(positive)\n",
    "print(negative)"
   ]
  },
  {
   "cell_type": "code",
   "execution_count": null,
   "metadata": {},
   "outputs": [],
   "source": []
  }
 ],
 "metadata": {
  "kernelspec": {
   "display_name": "Python 3",
   "language": "python",
   "name": "python3"
  },
  "language_info": {
   "codemirror_mode": {
    "name": "ipython",
    "version": 3
   },
   "file_extension": ".py",
   "mimetype": "text/x-python",
   "name": "python",
   "nbconvert_exporter": "python",
   "pygments_lexer": "ipython3",
   "version": "3.11.0"
  },
  "orig_nbformat": 4
 },
 "nbformat": 4,
 "nbformat_minor": 2
}
