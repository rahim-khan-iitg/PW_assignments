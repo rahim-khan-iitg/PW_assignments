{
 "cells": [
  {
   "attachments": {},
   "cell_type": "markdown",
   "metadata": {},
   "source": [
    "Q1"
   ]
  },
  {
   "cell_type": "code",
   "execution_count": 1,
   "metadata": {},
   "outputs": [
    {
     "name": "stdout",
     "output_type": "stream",
     "text": [
      "55\n"
     ]
    }
   ],
   "source": [
    "# when we know the exact number of iteration then we use for loop\n",
    "## ex-- if we want to sum 1 to 10 we know the number of iteration here so we can use for loop\n",
    "sum=0\n",
    "for i in range(1,11):\n",
    "    sum=sum+i\n",
    "\n",
    "print(sum)"
   ]
  },
  {
   "cell_type": "code",
   "execution_count": 2,
   "metadata": {},
   "outputs": [
    {
     "name": "stdout",
     "output_type": "stream",
     "text": [
      "[2, 3, 5, 7, 11]\n"
     ]
    }
   ],
   "source": [
    "## when we dont know the exact number of iteration we use the while loop\n",
    "## ex- we want the nth prime number , in this case we dont know the exact number of iteration so we will use the while loop\n",
    "def is_prime(n:int)->bool:\n",
    "    for i in range(2,(n//2)+1):\n",
    "        if n%i==0:\n",
    "            return False\n",
    "    return True\n",
    "\n",
    "## we want to first 5 primes\n",
    "primes=list()\n",
    "n=2\n",
    "while(len(primes)<5):\n",
    "    if is_prime(n):\n",
    "        primes.append(n)\n",
    "    n=n+1\n",
    "\n",
    "print(primes)"
   ]
  },
  {
   "attachments": {},
   "cell_type": "markdown",
   "metadata": {},
   "source": [
    "Q2"
   ]
  },
  {
   "cell_type": "code",
   "execution_count": 3,
   "metadata": {},
   "outputs": [
    {
     "name": "stdout",
     "output_type": "stream",
     "text": [
      "sum by for loop 55 and product by for loop 3628800 \n"
     ]
    }
   ],
   "source": [
    "## program to find product and sum of first 10 natural numbers using while and for loop\n",
    "## using for loop\n",
    "sum_for=0\n",
    "product_for=1\n",
    "for i in range(1,11):\n",
    "    sum_for=sum_for+i\n",
    "    product_for=product_for*i\n",
    "\n",
    "print(\"sum by for loop {} and product by for loop {} \".format(sum_for,product_for))\n"
   ]
  },
  {
   "cell_type": "code",
   "execution_count": 4,
   "metadata": {},
   "outputs": [
    {
     "name": "stdout",
     "output_type": "stream",
     "text": [
      "sum by while loop 55 and product by while loop 3628800\n"
     ]
    }
   ],
   "source": [
    "sum_while=0\n",
    "product_while=1\n",
    "i=1\n",
    "while i<=10:\n",
    "    sum_while=sum_while+i\n",
    "    product_while=product_while*i\n",
    "    i+=1\n",
    "\n",
    "print(f\"sum by while loop {sum_while} and product by while loop {product_while}\")"
   ]
  },
  {
   "attachments": {},
   "cell_type": "markdown",
   "metadata": {},
   "source": [
    "Q3"
   ]
  },
  {
   "cell_type": "code",
   "execution_count": 5,
   "metadata": {},
   "outputs": [
    {
     "name": "stdout",
     "output_type": "stream",
     "text": [
      "2250.0\n"
     ]
    }
   ],
   "source": [
    "## program to calculate electricity bill\n",
    "def calculate_bill(n:int)->float:\n",
    "    bill=0\n",
    "    if n<=100:\n",
    "        bill =bill+n*4.5\n",
    "        return bill\n",
    "    if n>=101 and n<=200:\n",
    "        bill=bill+100*4.5+6*(n-100)\n",
    "        return bill\n",
    "    if n>=201 and n<=300:\n",
    "        bill =bill+100*4.5+100*6+10*(n-200)\n",
    "        return bill\n",
    "\n",
    "    bill =bill+100*4.5+100*6+100*10+20*(n-300)\n",
    "    return bill\n",
    "\n",
    "\n",
    "\n",
    "n=int(input(\"write the units of electricity \"))\n",
    "bill=calculate_bill(n)\n",
    "print(bill)\n"
   ]
  },
  {
   "attachments": {},
   "cell_type": "markdown",
   "metadata": {},
   "source": [
    "Q4"
   ]
  },
  {
   "cell_type": "code",
   "execution_count": 6,
   "metadata": {},
   "outputs": [
    {
     "name": "stdout",
     "output_type": "stream",
     "text": [
      "[2, 4, 5, 6, 8, 10, 12, 14, 15, 16, 18, 20, 22, 24, 25, 26, 28, 30, 32, 34, 35, 36, 38, 40, 42, 44, 45, 46, 48, 50, 52, 54, 55, 56, 58, 60, 62, 64, 65, 66, 68, 70, 72, 74, 75, 76, 78, 80, 82, 84, 85, 86, 88, 90, 92, 94, 95, 96, 98, 100]\n"
     ]
    }
   ],
   "source": [
    "nums=[i for i in range(1,101)]\n",
    "ans=[i for i in nums if (i**3)%4==0 or (i**3)%5==0]\n",
    "print(ans)"
   ]
  },
  {
   "attachments": {},
   "cell_type": "markdown",
   "metadata": {},
   "source": [
    "Q5"
   ]
  },
  {
   "cell_type": "code",
   "execution_count": 8,
   "metadata": {},
   "outputs": [
    {
     "name": "stdout",
     "output_type": "stream",
     "text": [
      "12\n"
     ]
    }
   ],
   "source": [
    "s=\"I want to become a data scientist\"\n",
    "def is_vowel(ch:chr)->bool:\n",
    "    vowel=['a','e','i','o','u']\n",
    "    return ch in vowel\n",
    "\n",
    "ans=[i for i in s if is_vowel(i.lower())]\n",
    "print(len(ans))\n"
   ]
  },
  {
   "cell_type": "code",
   "execution_count": null,
   "metadata": {},
   "outputs": [],
   "source": []
  }
 ],
 "metadata": {
  "kernelspec": {
   "display_name": "Python 3",
   "language": "python",
   "name": "python3"
  },
  "language_info": {
   "codemirror_mode": {
    "name": "ipython",
    "version": 3
   },
   "file_extension": ".py",
   "mimetype": "text/x-python",
   "name": "python",
   "nbconvert_exporter": "python",
   "pygments_lexer": "ipython3",
   "version": "3.11.0"
  },
  "orig_nbformat": 4
 },
 "nbformat": 4,
 "nbformat_minor": 2
}
