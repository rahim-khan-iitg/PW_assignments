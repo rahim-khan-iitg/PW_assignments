{
 "cells": [
  {
   "attachments": {},
   "cell_type": "markdown",
   "metadata": {},
   "source": [
    "Q1"
   ]
  },
  {
   "cell_type": "code",
   "execution_count": 4,
   "metadata": {},
   "outputs": [
    {
     "name": "stdout",
     "output_type": "stream",
     "text": [
      "[1, 2, 3, 4, 44, 55, 66, 34, 56, 78, 89, 34, 1, 2, 3, 1, 4, 34, 55, 67, 78, 89, 45, 22, 61, 34, 56]\n",
      "4134711838987085478833841242112000\n"
     ]
    }
   ],
   "source": [
    "from functools import reduce\n",
    "def append_list(list1:list)->list:\n",
    "    list2=list()\n",
    "    for i in list1:\n",
    "        if type(i)==int or type(i)==float:\n",
    "            list2.append(i)\n",
    "    return list2\n",
    "\n",
    "def extract_num(list1:list)->list:\n",
    "    out=list()\n",
    "    for item in list1:\n",
    "        if type(item)==int or type(item)==float:\n",
    "            out.append(item)\n",
    "        elif type(item)==list or type(item)==tuple or type(item)==set:\n",
    "            out=out+append_list(item)\n",
    "        elif type(item)==dict:\n",
    "            out=out+append_list(item.keys())\n",
    "            out=out+extract_num(item.values())\n",
    "    return out\n",
    "\n",
    "list1 = [1,2,3,4, [44,55,66, True], False, (34,56,78,89,34), {1,2,3,3,2,1}, {1:34, \"key2\": [55, 67, 78, 89], 4: (45, 22, 61, 34)}, [56, 'data science'], 'Machine Learning']\n",
    "list2=extract_num(list1)\n",
    "print(list2)\n",
    "product=reduce(lambda x,y:x*y,list2)\n",
    "print(product)"
   ]
  },
  {
   "attachments": {},
   "cell_type": "markdown",
   "metadata": {},
   "source": [
    "Q2"
   ]
  },
  {
   "cell_type": "code",
   "execution_count": 5,
   "metadata": {},
   "outputs": [],
   "source": [
    "list3=[\"a\",\"b\",\"c\",\"d\",\"e\",\"f\",\"g\",\"h\",\"i\",\"j\",\"k\",\"l\",\"m\",\"n\",\"o\",\"p\",\"q\",\"r\",\"s\",\"t\",\"u\",\"v\",\"w\",\"x\",\"y\",\"z\"]\n",
    "list4=list3[::-1]"
   ]
  },
  {
   "cell_type": "code",
   "execution_count": 7,
   "metadata": {},
   "outputs": [],
   "source": [
    "enc={k:v for (k,v) in zip(list3,list4) }"
   ]
  },
  {
   "cell_type": "code",
   "execution_count": 11,
   "metadata": {},
   "outputs": [
    {
     "name": "stdout",
     "output_type": "stream",
     "text": [
      "r dzmg gl yvxlnv z wzgz hxrvmgrhg\n"
     ]
    }
   ],
   "source": [
    "def encrypt(codes:dict,alphabets:list,msg:str)->str:\n",
    "    ans=\"\"\n",
    "    for char in msg:\n",
    "        if char.lower() in alphabets:\n",
    "            ans=ans+codes[char.lower()]\n",
    "        else:\n",
    "            ans=ans+char\n",
    "    return ans\n",
    "\n",
    "msg=\"I want to become a Data Scientist\"\n",
    "encrypted=encrypt(enc,list3,msg)\n",
    "print(encrypted)"
   ]
  },
  {
   "cell_type": "code",
   "execution_count": 12,
   "metadata": {},
   "outputs": [
    {
     "name": "stdout",
     "output_type": "stream",
     "text": [
      "i want to become a data scientist\n"
     ]
    }
   ],
   "source": [
    "decrypted=encrypt(enc,list3,encrypted)\n",
    "print(decrypted)"
   ]
  }
 ],
 "metadata": {
  "kernelspec": {
   "display_name": "Python 3",
   "language": "python",
   "name": "python3"
  },
  "language_info": {
   "codemirror_mode": {
    "name": "ipython",
    "version": 3
   },
   "file_extension": ".py",
   "mimetype": "text/x-python",
   "name": "python",
   "nbconvert_exporter": "python",
   "pygments_lexer": "ipython3",
   "version": "3.11.0"
  },
  "orig_nbformat": 4
 },
 "nbformat": 4,
 "nbformat_minor": 2
}
