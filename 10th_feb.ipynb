{
 "cells": [
  {
   "attachments": {},
   "cell_type": "markdown",
   "metadata": {},
   "source": [
    "Q1. Which function is used to open a file? What are the different modes of opening a file? Explain each mode \n",
    "of file opening."
   ]
  },
  {
   "attachments": {},
   "cell_type": "markdown",
   "metadata": {},
   "source": [
    "Ans open() function is used to open a file. \n"
   ]
  },
  {
   "attachments": {},
   "cell_type": "markdown",
   "metadata": {},
   "source": [
    "Modes of opening file\n",
    "(1) 'w' w stands for writting. in this mode we open the file for writting. in this mode the file is first truncated then new data is written.\n",
    "(2) 'r' stands for reading. in this mode we open the file for reading.\n",
    "(3) 'x' used for creating a new file and open it for writting.\n",
    "(4) 'a' this mode is used for opening the file for appending text.\n",
    "(5) if we use 'b' with 'w','r','x' it reads or writes the file in binary mode.\n",
    "(6) if we use '+' with 'w','r','a' it is used opening the file for updating \n"
   ]
  },
  {
   "attachments": {},
   "cell_type": "markdown",
   "metadata": {},
   "source": [
    "Q2. Why close() function is used? Why is it important to close a file?"
   ]
  },
  {
   "attachments": {},
   "cell_type": "markdown",
   "metadata": {},
   "source": [
    "Ans close() function is used to close the file. if we dont close the file we will not get the content in the file. we will only be able to see the written content after closing the file"
   ]
  },
  {
   "attachments": {},
   "cell_type": "markdown",
   "metadata": {},
   "source": [
    "Q3. Write a python program to create a text file. Write ‘I want to become a Data Scientist’ in that file. Then \n",
    "close the file. Open this file and read the content of the file. "
   ]
  },
  {
   "cell_type": "code",
   "execution_count": 2,
   "metadata": {},
   "outputs": [],
   "source": [
    "f=open(\"test.txt\",'w')"
   ]
  },
  {
   "cell_type": "code",
   "execution_count": 3,
   "metadata": {},
   "outputs": [],
   "source": [
    "f.write(\"I want to become a Data Scientist\")\n",
    "f.close()"
   ]
  },
  {
   "cell_type": "code",
   "execution_count": 4,
   "metadata": {},
   "outputs": [
    {
     "name": "stdout",
     "output_type": "stream",
     "text": [
      "I want to become a Data Scientist\n"
     ]
    }
   ],
   "source": [
    "f=open(\"test.txt\",'r')\n",
    "print(f.read())"
   ]
  },
  {
   "attachments": {},
   "cell_type": "markdown",
   "metadata": {},
   "source": [
    "Q4. Explain the following with python code: read(), readline() and readlines()"
   ]
  },
  {
   "attachments": {},
   "cell_type": "markdown",
   "metadata": {},
   "source": [
    "read() is used to read the whole file at once. readline() is used for reading the file line by line and readlines() is used for reading all the lines at once and return as a list\n",
    "we can also pass the number of bytes to read as arguement"
   ]
  },
  {
   "cell_type": "code",
   "execution_count": 5,
   "metadata": {},
   "outputs": [],
   "source": [
    "f=open(\"test.txt\",'w')\n",
    "f.write(\"Lorem ipsum dolor, sit amet consectetur adipisicing elit. Neque laborum exercitationem architecto reprehenderit odit, ea soluta enim corrupti quod aperiam cupiditate atque dicta voluptatum rerum sequi aut dignissimos eum assumenda!\")\n",
    "f.close()"
   ]
  },
  {
   "cell_type": "code",
   "execution_count": 16,
   "metadata": {},
   "outputs": [
    {
     "name": "stdout",
     "output_type": "stream",
     "text": [
      "Lorem ipsum dolor, sit amet consectetur adipisicing elit. \n",
      "Neque laborum exercitationem architecto reprehenderit odit, \n",
      "ea soluta enim corrupti quod aperiam cupiditate atque\n",
      "dicta voluptatum rerum sequi aut dignissimos eum assumenda!\n"
     ]
    }
   ],
   "source": [
    "f=open('test.txt','r')\n",
    "data=f.read()\n",
    "print(data)"
   ]
  },
  {
   "cell_type": "code",
   "execution_count": 18,
   "metadata": {},
   "outputs": [
    {
     "name": "stdout",
     "output_type": "stream",
     "text": [
      "Lorem ipsum dolor, sit amet consectetur adipisicing elit. \n",
      "\n",
      "Neque laborum exercitationem architecto reprehenderit odit, \n",
      "\n",
      "ea soluta enim corrupti quod aperiam cupiditate atque\n",
      "\n",
      "dicta voluptatum rerum sequi aut dignissimos eum assumenda!\n"
     ]
    }
   ],
   "source": [
    "f.seek(0)\n",
    "l=f.readlines()\n",
    "for i in l:\n",
    "    print(i)"
   ]
  },
  {
   "cell_type": "code",
   "execution_count": 23,
   "metadata": {},
   "outputs": [
    {
     "data": {
      "text/plain": [
       "0"
      ]
     },
     "execution_count": 23,
     "metadata": {},
     "output_type": "execute_result"
    }
   ],
   "source": [
    "f.seek(0)"
   ]
  },
  {
   "cell_type": "code",
   "execution_count": 25,
   "metadata": {},
   "outputs": [],
   "source": [
    "for line in f:\n",
    "    print(line)\n",
    "f.close()"
   ]
  },
  {
   "attachments": {},
   "cell_type": "markdown",
   "metadata": {},
   "source": [
    "Q5. Explain why with statement is used with open(). What is the advantage of using with statement and \n",
    "open() together?"
   ]
  },
  {
   "attachments": {},
   "cell_type": "markdown",
   "metadata": {},
   "source": [
    "Ans with statement is used for opening the file and it closes the file autometically."
   ]
  },
  {
   "attachments": {},
   "cell_type": "markdown",
   "metadata": {},
   "source": [
    "Q6. Explain the write() and writelines() functions. Give a suitable example"
   ]
  },
  {
   "attachments": {},
   "cell_type": "markdown",
   "metadata": {},
   "source": [
    "Ans write() is used to write the single string in the file\n",
    "and writelines() is used to write the list of strings \n"
   ]
  },
  {
   "cell_type": "code",
   "execution_count": 26,
   "metadata": {},
   "outputs": [
    {
     "data": {
      "text/plain": [
       "16"
      ]
     },
     "execution_count": 26,
     "metadata": {},
     "output_type": "execute_result"
    }
   ],
   "source": [
    "f=open(\"test2.txt\",'w')\n",
    "f.write(\"this is the line\")"
   ]
  },
  {
   "cell_type": "code",
   "execution_count": 27,
   "metadata": {},
   "outputs": [],
   "source": [
    "f.close()"
   ]
  },
  {
   "cell_type": "code",
   "execution_count": 28,
   "metadata": {},
   "outputs": [],
   "source": [
    "f=open('test3.txt','w')\n",
    "list1=[\"this is line 1\\n\",\"this is line 2\\n\",\"this is line 3\\n\",\"this is line 4\\n\"]\n",
    "f.writelines(list1)\n",
    "f.close()"
   ]
  },
  {
   "cell_type": "code",
   "execution_count": null,
   "metadata": {},
   "outputs": [],
   "source": []
  }
 ],
 "metadata": {
  "kernelspec": {
   "display_name": "Python 3",
   "language": "python",
   "name": "python3"
  },
  "language_info": {
   "codemirror_mode": {
    "name": "ipython",
    "version": 3
   },
   "file_extension": ".py",
   "mimetype": "text/x-python",
   "name": "python",
   "nbconvert_exporter": "python",
   "pygments_lexer": "ipython3",
   "version": "3.11.0"
  },
  "orig_nbformat": 4
 },
 "nbformat": 4,
 "nbformat_minor": 2
}
