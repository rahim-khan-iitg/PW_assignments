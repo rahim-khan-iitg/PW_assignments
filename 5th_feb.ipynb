{
 "cells": [
  {
   "attachments": {},
   "cell_type": "markdown",
   "metadata": {},
   "source": [
    "Q1. Explain Class and Object with respect to Object-Oriented Programming. Give a suitable example"
   ]
  },
  {
   "attachments": {},
   "cell_type": "markdown",
   "metadata": {},
   "source": [
    "Ans. class is the blueprint of the real world entity. it is a user defined data type\n",
    "an object is the instance of class "
   ]
  },
  {
   "cell_type": "code",
   "execution_count": 1,
   "metadata": {},
   "outputs": [],
   "source": [
    "# example\n",
    "class account:\n",
    "    def __init__(self,account_no,name,email) -> None:\n",
    "        self.account_no=account_no\n",
    "        self.name=name\n",
    "        self.email=email\n",
    "        self.__balance=0\n",
    "    \n",
    "    def get_balance(self)->float:\n",
    "        return self.__balance\n",
    "    \n",
    "    def deposit(self,amount):\n",
    "        self.__balance=self.__balance+amount\n",
    "    \n",
    "    def withdraw(self,amount)->bool:\n",
    "        if self.__balance<amount:\n",
    "            return False\n",
    "        self.__balance=self.__balance-amount\n",
    "        return True\n",
    "    "
   ]
  },
  {
   "attachments": {},
   "cell_type": "markdown",
   "metadata": {},
   "source": [
    "Q2 name four pillars of OOPs"
   ]
  },
  {
   "attachments": {},
   "cell_type": "markdown",
   "metadata": {},
   "source": [
    "ans. (1) Abstraction (2) Polymorphism (3) Encapsulation (4) Inheritence"
   ]
  },
  {
   "attachments": {},
   "cell_type": "markdown",
   "metadata": {},
   "source": [
    "Q3 Explain why the __init__() function is used. Give a suitable example"
   ]
  },
  {
   "attachments": {},
   "cell_type": "markdown",
   "metadata": {},
   "source": [
    "Ans. __init__() is the special type of function which is used in the python classes . it works as the constructor. we pass the arguements to the class while making objects of the class to set set the initial parameters\n",
    "for example refer to the example of Q1..."
   ]
  },
  {
   "attachments": {},
   "cell_type": "markdown",
   "metadata": {},
   "source": [
    "Q4 why self is used in OOPs?\n"
   ]
  },
  {
   "attachments": {},
   "cell_type": "markdown",
   "metadata": {},
   "source": [
    "Ans it is used as pointer to class itself."
   ]
  },
  {
   "attachments": {},
   "cell_type": "markdown",
   "metadata": {},
   "source": [
    "Q5 what is inheritence? give example of each type of inheritence.\n"
   ]
  },
  {
   "attachments": {},
   "cell_type": "markdown",
   "metadata": {},
   "source": [
    "Ans inheritence is the mechanism by which we can derive the new class from the previously defined class.\n",
    "it allows us to reuse the code.\n",
    "there are 5 types of inheritence\n",
    "(1) single Inheritence (2) multiple Inheritence (3) Multilevel Inheritence (4) heirarchical inheritence (5) hybrid Inheritence "
   ]
  },
  {
   "attachments": {},
   "cell_type": "markdown",
   "metadata": {},
   "source": []
  }
 ],
 "metadata": {
  "kernelspec": {
   "display_name": "Python 3",
   "language": "python",
   "name": "python3"
  },
  "language_info": {
   "codemirror_mode": {
    "name": "ipython",
    "version": 3
   },
   "file_extension": ".py",
   "mimetype": "text/x-python",
   "name": "python",
   "nbconvert_exporter": "python",
   "pygments_lexer": "ipython3",
   "version": "3.11.0"
  },
  "orig_nbformat": 4
 },
 "nbformat": 4,
 "nbformat_minor": 2
}
